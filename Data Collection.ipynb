{
 "cells": [
  {
   "cell_type": "markdown",
   "metadata": {},
   "source": [
    "## Clash Royale Data Collection\n",
    "\n",
    "This file is intended to do data collection only.  \n",
    "The data will be acquired through python (a)sync wrapper from official clash royale api from this [Github](https://github.com/cgrok/clashroyale) Page. \n",
    "\n",
    "The way I collect data is to recursively call get_player_battles (tag). Each request will return 25 battles, which also contains 25 opponent players' tags. I will randomly choose one from these tags and request this player battle.  \n",
    "To start the loop, I will call get_top_players() to request the top 200 players data. and randomly choose one from which to start the loop.\n",
    "\n",
    "I plan to define some functions that will, instead of randomly select, select the player tag with lowest/highest trophies to get a evenly distributed data in trophies."
   ]
  },
  {
   "cell_type": "code",
   "execution_count": 73,
   "metadata": {},
   "outputs": [],
   "source": [
    "# import necessary packages.\n",
    "import clashroyale\n",
    "import pandas as pd\n",
    "import numpy as np\n",
    "import matplotlib.pyplot as plt\n",
    "from tqdm import tqdm_notebook as tqdm\n",
    "import time\n",
    "import random\n",
    "import json\n",
    "import re\n",
    "import sys   \n",
    "import os\n",
    "\n",
    "from datetime import datetime\n",
    "from dateutil import parser"
   ]
  },
  {
   "cell_type": "code",
   "execution_count": 2,
   "metadata": {},
   "outputs": [],
   "source": [
    "## My Clash Royale Developer Key\n",
    "# Follow https://github.com/cgrok/clashroyale#documentation to get your developer keys\n",
    "import configparser\n",
    "config = configparser.ConfigParser()\n",
    "config.read(\"config.ini\")\n",
    "SECRETDEVKEY = config.get(\"Key\",\"SECRETDEVKEY\")"
   ]
  },
  {
   "cell_type": "code",
   "execution_count": 3,
   "metadata": {},
   "outputs": [
    {
     "name": "stdout",
     "output_type": "stream",
     "text": [
      "1000 <class 'list'>\n",
      "It took  1.2294042110443115  to run one \"get_top_players()\" method\n"
     ]
    }
   ],
   "source": [
    "## start session\n",
    "client = clashroyale.RoyaleAPI(SECRETDEVKEY)\n",
    "# get the top player to start\n",
    "def get_top_players():\n",
    "    players = client.get_top_players() \n",
    "    return players\n",
    "\n",
    "def get_player_battles(tag):\n",
    "    battles = client.get_player_battles(tag)\n",
    "    return battles\n",
    "\n",
    "## time counter. Count collapsed time of one request. \n",
    "# start counting\n",
    "time_start = time.time()\n",
    "## get top 200 players.\n",
    "players = get_top_players()\n",
    "now = time.time()\n",
    "\n",
    "print(len(players),type(players))\n",
    "print(\"It took \", now-time_start, \" to run one \\\"get_top_players()\\\" method\")"
   ]
  },
  {
   "cell_type": "markdown",
   "metadata": {},
   "source": [
    "Get top 200 players (tag) to start my loop. I will randomly choose one from these 200 players, and get the tag to start the loop."
   ]
  },
  {
   "cell_type": "code",
   "execution_count": 4,
   "metadata": {},
   "outputs": [
    {
     "data": {
      "text/plain": [
       "'QGURU8QC'"
      ]
     },
     "execution_count": 4,
     "metadata": {},
     "output_type": "execute_result"
    }
   ],
   "source": [
    "## get random player tag from the requested top 200 players\n",
    "random.shuffle(players)\n",
    "tag = players[0].raw_data[\"tag\"]\n",
    "tag"
   ]
  },
  {
   "cell_type": "code",
   "execution_count": 5,
   "metadata": {},
   "outputs": [],
   "source": [
    "battles = get_player_battles(tag)\n",
    "rdata = battles[0].raw_data"
   ]
  },
  {
   "cell_type": "code",
   "execution_count": 6,
   "metadata": {},
   "outputs": [
    {
     "name": "stdout",
     "output_type": "stream",
     "text": [
      "9899VQCP\n"
     ]
    }
   ],
   "source": [
    "## get the next tag to have get_player_battles function can performed recursively\n",
    "def next_tag(battles):\n",
    "    idx = random.randint(0,len(battles)-1)\n",
    "    #print (len(battles),idx)\n",
    "    tag = battles[idx].raw_data[\"opponent\"][0][\"tag\"]\n",
    "    return tag\n",
    "print(next_tag(battles))"
   ]
  },
  {
   "cell_type": "code",
   "execution_count": 7,
   "metadata": {},
   "outputs": [],
   "source": [
    "## A \"prove of concept cell\" this try,except method to handle keyboardinterrupt will work to handle the keyboard interrupt while writing to file.\n",
    "\n",
    "# try:\n",
    "#     for i in range(5):\n",
    "#         time.sleep(1)\n",
    "#         print(i)\n",
    "# except KeyboardInterrupt:\n",
    "#     print(\"Interrupted, Your program is closing\")\n",
    "#     raise KeyboardInterrupt"
   ]
  },
  {
   "cell_type": "code",
   "execution_count": 8,
   "metadata": {},
   "outputs": [
    {
     "name": "stdout",
     "output_type": "stream",
     "text": [
      "True\n"
     ]
    }
   ],
   "source": [
    "# the following cell will delete the last line of file. This code is copied from https://stackoverflow.com/a/10289740/10344378\n",
    "import os\n",
    "def delete_last_line(file_name):\n",
    "    with open(file_name, \"r+\", encoding = \"utf-8\") as file:\n",
    "\n",
    "        #Move the pointer (similar to a cursor in a text editor) to the end of the file. \n",
    "        file.seek(0, os.SEEK_END)\n",
    "\n",
    "        #This code means the following code skips the very last character in the file - \n",
    "        #i.e. in the case the last line is null we delete the last line \n",
    "        #and the penultimate one\n",
    "        pos = file.tell() - 1\n",
    "\n",
    "        #Read each character in the file one at a time from the penultimate \n",
    "        #character going backwards, searching for a newline character\n",
    "        #If we find a new line, exit the search\n",
    "        while pos > 0 and file.read(1) != \"\\n\":\n",
    "            pos -= 1\n",
    "            file.seek(pos, os.SEEK_SET)\n",
    "\n",
    "        #So long as we're not at the start of the file, delete all the characters ahead of this position\n",
    "        if pos > 0:\n",
    "            file.seek(pos, os.SEEK_SET)\n",
    "            file.truncate()\n",
    "\n",
    "today_date = str(datetime.now().date())\n",
    "fname = today_date+'_battles.json'\n",
    "#print(fname)\n",
    "exists = os.path.isfile(fname)\n",
    "if exists:\n",
    "    print(exists)\n",
    "else:\n",
    "    f= open(fname,\"w\")\n",
    "    f.close()"
   ]
  },
  {
   "cell_type": "code",
   "execution_count": 9,
   "metadata": {},
   "outputs": [
    {
     "ename": "NameError",
     "evalue": "name 'drive_service' is not defined",
     "output_type": "error",
     "traceback": [
      "\u001b[1;31m---------------------------------------------------------------------------\u001b[0m",
      "\u001b[1;31mNameError\u001b[0m                                 Traceback (most recent call last)",
      "\u001b[1;32m<ipython-input-9-1f13fc14c3c0>\u001b[0m in \u001b[0;36m<module>\u001b[1;34m()\u001b[0m\n\u001b[0;32m      5\u001b[0m media = http.MediaFileUpload('battles_temp.json',\n\u001b[0;32m      6\u001b[0m                         mimetype='json')\n\u001b[1;32m----> 7\u001b[1;33m file = drive_service.files().create(body=file_metadata,\n\u001b[0m\u001b[0;32m      8\u001b[0m                                     \u001b[0mmedia_body\u001b[0m\u001b[1;33m=\u001b[0m\u001b[0mmedia\u001b[0m\u001b[1;33m,\u001b[0m\u001b[1;33m\u001b[0m\u001b[0m\n\u001b[0;32m      9\u001b[0m                                     fields='id').execute()\n",
      "\u001b[1;31mNameError\u001b[0m: name 'drive_service' is not defined"
     ]
    }
   ],
   "source": [
    "## upload file to google drive\n",
    "from googleapiclient import http\n",
    "\n",
    "file_metadata = {'name': 'battles_temp.json'}\n",
    "media = http.MediaFileUpload('battles_temp.json',\n",
    "                        mimetype='json')\n",
    "file = drive_service.files().create(body=file_metadata,\n",
    "                                    media_body=media,\n",
    "                                    fields='id').execute()\n",
    "print ('File ID: %s' % file.get('id'))"
   ]
  },
  {
   "cell_type": "code",
   "execution_count": 25,
   "metadata": {
    "scrolled": true
   },
   "outputs": [
    {
     "data": {
      "application/vnd.jupyter.widget-view+json": {
       "model_id": "179bb60db9ae4c03848d46b4a190ae5b",
       "version_major": 2,
       "version_minor": 0
      },
      "text/html": [
       "<p>Failed to display Jupyter Widget of type <code>HBox</code>.</p>\n",
       "<p>\n",
       "  If you're reading this message in the Jupyter Notebook or JupyterLab Notebook, it may mean\n",
       "  that the widgets JavaScript is still loading. If this message persists, it\n",
       "  likely means that the widgets JavaScript library is either not installed or\n",
       "  not enabled. See the <a href=\"https://ipywidgets.readthedocs.io/en/stable/user_install.html\">Jupyter\n",
       "  Widgets Documentation</a> for setup instructions.\n",
       "</p>\n",
       "<p>\n",
       "  If you're reading this message in another frontend (for example, a static\n",
       "  rendering on GitHub or <a href=\"https://nbviewer.jupyter.org/\">NBViewer</a>),\n",
       "  it may mean that your frontend doesn't currently support widgets.\n",
       "</p>\n"
      ],
      "text/plain": [
       "HBox(children=(IntProgress(value=0, max=120000), HTML(value='')))"
      ]
     },
     "metadata": {},
     "output_type": "display_data"
    },
    {
     "name": "stdout",
     "output_type": "stream",
     "text": [
      "Unauthorized Error count: 0\n",
      "API Time Out Error count: 16\n",
      "\n"
     ]
    }
   ],
   "source": [
    "## start the loop\n",
    "\n",
    "## 2 parameters that track the file size. and control the loop.\n",
    "battle_df_size_tracker =0\n",
    "battle_df_size = 120000\n",
    "try:\n",
    "    Unauthorized_count\n",
    "    API_count\n",
    "    total_iter = 0\n",
    "except NameError:\n",
    "    Unauthorized_count = 0\n",
    "    API_count = 0\n",
    "    \n",
    "\n",
    "\n",
    "## \n",
    "with open(fname, 'r+') as f:\n",
    "    battle_df_size_tracker = sum(1 for row in f)\n",
    "    #print(battle_df_size_tracker)\n",
    "    # status bar\n",
    "    with tqdm(total=battle_df_size, initial=battle_df_size_tracker) as pbar:\n",
    "        while True:\n",
    "            while True:\n",
    "                #skip api timeout error, etc.\n",
    "                try:\n",
    "                    temp_battles = get_player_battles(tag)\n",
    "                    ## check if requested data is not empty.\n",
    "                    if not temp_battles:\n",
    "                        tag = next_tag(battles)\n",
    "                    else:\n",
    "                        battles = temp_battles\n",
    "                        break\n",
    "                except Exception as e:\n",
    "                    e = sys.exc_info()\n",
    "                    if \"Unauthorized\" in str(e):\n",
    "                        Unauthorized_count +=1\n",
    "                    elif \"API request timed out\" in str(e):\n",
    "                        API_count += 1\n",
    "                    else:\n",
    "                        print(datetime.now(), end = \": \")\n",
    "                        print ((e))\n",
    "            ## check if the result data only has lenth of one, which will not be in a list, a dict instead. transform to list here.    \n",
    "            if not isinstance(battles,list):\n",
    "                battles = list(battles)\n",
    "            \n",
    "            for battle in battles:\n",
    "                ## write to file while requesting in case of any unexpected errors.\n",
    "                try:\n",
    "                    json.dump(battle.raw_data, f)\n",
    "                    f.write('\\n')\n",
    "                except KeyboardInterrupt:\n",
    "                    ## in case that the json dump is not complete, delete the interrupted dump line (I persummed this will be the last line).\n",
    "                    delete_last_line(fname)\n",
    "                    print(\"Last line deleted\")\n",
    "                    raise KeyboardInterrupt\n",
    "            \n",
    "            ## update status bar\n",
    "            pbar.update(len(battles))\n",
    "            \n",
    "            ## file size tracker.\n",
    "            battle_df_size_tracker += len(battles)\n",
    "            #print(row_count, sum(1 for row in f))\n",
    "            if battle_df_size_tracker > battle_df_size:\n",
    "                print(\"Unauthorized Error count:\", Unauthorized_count)\n",
    "                print(\"API Time Out Error count:\", API_count)\n",
    "                break\n",
    "            # get tag for next battle\n",
    "            tag = next_tag(battles)"
   ]
  },
  {
   "cell_type": "markdown",
   "metadata": {},
   "source": [
    "## Preprocess"
   ]
  },
  {
   "cell_type": "markdown",
   "metadata": {},
   "source": [
    "Check if each line of the file is in json format, if not try fix it or delete the line"
   ]
  },
  {
   "cell_type": "code",
   "execution_count": 129,
   "metadata": {},
   "outputs": [
    {
     "name": "stdout",
     "output_type": "stream",
     "text": [
      "Expecting ':' delimiter: line 1 column 6 (char 5)\n",
      "3\n",
      "{\"1\" 2} => {\"1\": 2}\n",
      "Solved: Expecting ':' delimiter: line 1 column 6 (char 5)\n",
      "\n",
      "Expecting value: line 2 column 1 (char 1)\n",
      "4\n",
      "Solved: Line skipped\n",
      "\n"
     ]
    },
    {
     "data": {
      "text/plain": [
       "[{'0': 1}, {'1': 2}, {'1': 2}, {'1': 2}, {'1': 2}]"
      ]
     },
     "execution_count": 129,
     "metadata": {},
     "output_type": "execute_result"
    }
   ],
   "source": [
    "data = []\n",
    "with open(\"test.json\", \"r+\") as ftest:\n",
    "    for idx, line in enumerate(ftest):\n",
    "        try:\n",
    "            \n",
    "            data.append(json.loads(line))\n",
    "        except Exception as e:\n",
    "            \n",
    "            e_str = str(e)\n",
    "            print(e_str)\n",
    "            print(idx)\n",
    "            line_num = re.findall(\"line \\d+\", e_str)[0].split()\n",
    "            column_num = re.findall(\"column \\d+\", e_str)[0].split()\n",
    "            char_num = re.findall(\"char \\d+\", e_str)[0].split()\n",
    "            if \"Expecting ':' delimiter\" in e_str:\n",
    "                fixed_line = line[0:int(char_num[1])].strip()+\": \"+line[int(char_num[1]):]\n",
    "                print(line.strip()+\" => \"+fixed_line.strip())\n",
    "                data.append(json.loads(fixed_line))\n",
    "                print(\"Solved: \" + e_str)\n",
    "                print()\n",
    "            elif \"Expecting value:\" in e_str:\n",
    "                print(\"Solved: Line skipped\")\n",
    "                print()\n",
    "                \n",
    "            continue\n",
    "data"
   ]
  },
  {
   "cell_type": "code",
   "execution_count": 131,
   "metadata": {},
   "outputs": [
    {
     "data": {
      "application/vnd.jupyter.widget-view+json": {
       "model_id": "5272771689e14a75ba53488fe7708b96",
       "version_major": 2,
       "version_minor": 0
      },
      "text/html": [
       "<p>Failed to display Jupyter Widget of type <code>HBox</code>.</p>\n",
       "<p>\n",
       "  If you're reading this message in the Jupyter Notebook or JupyterLab Notebook, it may mean\n",
       "  that the widgets JavaScript is still loading. If this message persists, it\n",
       "  likely means that the widgets JavaScript library is either not installed or\n",
       "  not enabled. See the <a href=\"https://ipywidgets.readthedocs.io/en/stable/user_install.html\">Jupyter\n",
       "  Widgets Documentation</a> for setup instructions.\n",
       "</p>\n",
       "<p>\n",
       "  If you're reading this message in another frontend (for example, a static\n",
       "  rendering on GitHub or <a href=\"https://nbviewer.jupyter.org/\">NBViewer</a>),\n",
       "  it may mean that your frontend doesn't currently support widgets.\n",
       "</p>\n"
      ],
      "text/plain": [
       "HBox(children=(IntProgress(value=0, max=120015), HTML(value='')))"
      ]
     },
     "metadata": {},
     "output_type": "display_data"
    },
    {
     "name": "stdout",
     "output_type": "stream",
     "text": [
      "\n"
     ]
    }
   ],
   "source": [
    "## show file size\n",
    "data = []\n",
    "with open(fname, \"r\") as f:\n",
    "    with tqdm(total=120015, initial=0) as pbar:\n",
    "        for idx, line in enumerate(f):\n",
    "    #         if idx == 115152:\n",
    "    #             print (line[7500:7600])\n",
    "            try:\n",
    "                data.append(json.loads(line))\n",
    "                pbar.update()\n",
    "    #             if idx == 120000:\n",
    "    #                 print(\"done\")\n",
    "    #                 break\n",
    "            except Exception as e:\n",
    "                e_str = str(e)\n",
    "                print(e_str)\n",
    "                print(idx)\n",
    "                line_num = re.findall(\"line \\d+\", e_str)[0].split()\n",
    "                column_num = re.findall(\"column \\d+\", e_str)[0].split()\n",
    "                char_num = re.findall(\"char \\d+\", e_str)[0].split()\n",
    "                if \"Expecting ':' delimiter\" in e_str:\n",
    "                    fixed_line = line[0:int(char_num[1])].strip()+\": \"+line[int(char_num[1]):]\n",
    "                    print(line.strip()+\" => \"+fixed_line.strip())\n",
    "                    data.append(json.loads(fixed_line))\n",
    "                    print(\"Solved: \" + e_str)\n",
    "                    print()\n",
    "                elif \"Expecting value:\" in e_str:\n",
    "                    print(\"Solved: Line skipped\")\n",
    "                    print()\n",
    "                else:\n",
    "                    break"
   ]
  },
  {
   "cell_type": "code",
   "execution_count": 135,
   "metadata": {},
   "outputs": [],
   "source": [
    "battles_df = pd.DataFrame(data)"
   ]
  },
  {
   "cell_type": "code",
   "execution_count": 33,
   "metadata": {},
   "outputs": [],
   "source": [
    "#rage_df.to_csv(\"rage_battle.csv\")"
   ]
  },
  {
   "cell_type": "code",
   "execution_count": 134,
   "metadata": {},
   "outputs": [],
   "source": [
    "# ## show trophies distribution\n",
    "# battles_df = pd.read_json(\"battles_temp.json\", lines=True)\n",
    "# battles_df.opponent[battles_df.opponent.apply(lambda x:\"startTrophies\" in x[0].keys())].apply(lambda x:x[0][\"startTrophies\"]).sort_values().plot(kind = \"kde\")"
   ]
  },
  {
   "cell_type": "code",
   "execution_count": 136,
   "metadata": {},
   "outputs": [
    {
     "data": {
      "text/plain": [
       "1     119121\n",
       "12       846\n",
       "3         78\n",
       "Name: utcTime, dtype: int64"
      ]
     },
     "execution_count": 136,
     "metadata": {},
     "output_type": "execute_result"
    }
   ],
   "source": [
    "## convert timestamp to human readable\n",
    "dt = battles_df.utcTime.apply(lambda x: datetime.utcfromtimestamp(x))\n",
    "# check month distribution of the dataset\n",
    "dt.apply(lambda x:x.month).value_counts()"
   ]
  },
  {
   "cell_type": "code",
   "execution_count": 152,
   "metadata": {},
   "outputs": [
    {
     "data": {
      "text/plain": [
       "22.0    25150\n",
       "21.0    11692\n",
       "20.0    11570\n",
       "19.0     3623\n",
       "18.0     1114\n",
       "17.0      562\n",
       "16.0      378\n",
       "15.0      222\n",
       "14.0      187\n",
       "13.0      167\n",
       "12.0      131\n",
       "3.0        88\n",
       "6.0        63\n",
       "9.0        62\n",
       "10.0       62\n",
       "7.0        61\n",
       "8.0        41\n",
       "2.0        41\n",
       "11.0       39\n",
       "1.0        38\n",
       "4.0        36\n",
       "5.0        30\n",
       "Name: utcTime, dtype: int64"
      ]
     },
     "execution_count": 152,
     "metadata": {},
     "output_type": "execute_result"
    }
   ],
   "source": [
    "## get only ladder games\n",
    "battles_df = battles_df[battles_df[\"type\"]==\"PvP\"]\n",
    "dt = battles_df.utcTime.apply(lambda x: datetime.utcfromtimestamp(x))\n",
    "dt.apply(lambda x: x.day if x.month==1 else None).value_counts()"
   ]
  }
 ],
 "metadata": {
  "kernelspec": {
   "display_name": "Python 3",
   "language": "python",
   "name": "python3"
  },
  "language_info": {
   "codemirror_mode": {
    "name": "ipython",
    "version": 3
   },
   "file_extension": ".py",
   "mimetype": "text/x-python",
   "name": "python",
   "nbconvert_exporter": "python",
   "pygments_lexer": "ipython3",
   "version": "3.6.4"
  }
 },
 "nbformat": 4,
 "nbformat_minor": 2
}
